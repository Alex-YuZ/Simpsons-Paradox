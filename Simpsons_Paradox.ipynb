{
 "cells": [
  {
   "cell_type": "markdown",
   "metadata": {},
   "source": [
    "# Simpson's Paradox\n",
    "\n",
    "### Table of Contents\n",
    "\n",
    "- [Case 1: Admission Rate](#admission_rate)\n",
    "- [Case 2: Height Difference in Coffee Drinkers](#height_diff)"
   ]
  },
  {
   "cell_type": "markdown",
   "metadata": {},
   "source": [
    "<a id='admission_rate'></a>\n",
    "## Demo \\#1 Admission Rate"
   ]
  },
  {
   "cell_type": "code",
   "execution_count": 1,
   "metadata": {},
   "outputs": [],
   "source": [
    "import os\n",
    "os.chdir('projects_on_GitHub/udacity_project/Simpsons_Paradox')"
   ]
  },
  {
   "cell_type": "code",
   "execution_count": 2,
   "metadata": {},
   "outputs": [
    {
     "data": {
      "text/plain": [
       "'/Users/alejandrosanz/Downloads/projects_on_GitHub/udacity_project/Simpsons_Paradox'"
      ]
     },
     "execution_count": 2,
     "metadata": {},
     "output_type": "execute_result"
    }
   ],
   "source": [
    "pwd"
   ]
  },
  {
   "cell_type": "code",
   "execution_count": 3,
   "metadata": {},
   "outputs": [
    {
     "data": {
      "text/html": [
       "<div>\n",
       "<style scoped>\n",
       "    .dataframe tbody tr th:only-of-type {\n",
       "        vertical-align: middle;\n",
       "    }\n",
       "\n",
       "    .dataframe tbody tr th {\n",
       "        vertical-align: top;\n",
       "    }\n",
       "\n",
       "    .dataframe thead th {\n",
       "        text-align: right;\n",
       "    }\n",
       "</style>\n",
       "<table border=\"1\" class=\"dataframe\">\n",
       "  <thead>\n",
       "    <tr style=\"text-align: right;\">\n",
       "      <th></th>\n",
       "      <th>student_id</th>\n",
       "      <th>gender</th>\n",
       "      <th>major</th>\n",
       "      <th>admitted</th>\n",
       "    </tr>\n",
       "  </thead>\n",
       "  <tbody>\n",
       "    <tr>\n",
       "      <th>0</th>\n",
       "      <td>35377</td>\n",
       "      <td>female</td>\n",
       "      <td>Chemistry</td>\n",
       "      <td>False</td>\n",
       "    </tr>\n",
       "    <tr>\n",
       "      <th>1</th>\n",
       "      <td>56105</td>\n",
       "      <td>male</td>\n",
       "      <td>Physics</td>\n",
       "      <td>True</td>\n",
       "    </tr>\n",
       "    <tr>\n",
       "      <th>2</th>\n",
       "      <td>31441</td>\n",
       "      <td>female</td>\n",
       "      <td>Chemistry</td>\n",
       "      <td>False</td>\n",
       "    </tr>\n",
       "    <tr>\n",
       "      <th>3</th>\n",
       "      <td>51765</td>\n",
       "      <td>male</td>\n",
       "      <td>Physics</td>\n",
       "      <td>True</td>\n",
       "    </tr>\n",
       "    <tr>\n",
       "      <th>4</th>\n",
       "      <td>53714</td>\n",
       "      <td>female</td>\n",
       "      <td>Physics</td>\n",
       "      <td>True</td>\n",
       "    </tr>\n",
       "  </tbody>\n",
       "</table>\n",
       "</div>"
      ],
      "text/plain": [
       "   student_id  gender      major  admitted\n",
       "0       35377  female  Chemistry     False\n",
       "1       56105    male    Physics      True\n",
       "2       31441  female  Chemistry     False\n",
       "3       51765    male    Physics      True\n",
       "4       53714  female    Physics      True"
      ]
     },
     "execution_count": 3,
     "metadata": {},
     "output_type": "execute_result"
    }
   ],
   "source": [
    "# Load and view first few lines of dataset\n",
    "df = pd.read_csv('admission_data.csv')\n",
    "df.head()"
   ]
  },
  {
   "cell_type": "markdown",
   "metadata": {},
   "source": [
    "### Proportion and admission rate for each gender\n",
    "- **Proportion of each gender**"
   ]
  },
  {
   "cell_type": "code",
   "execution_count": 4,
   "metadata": {},
   "outputs": [
    {
     "data": {
      "text/plain": [
       "gender\n",
       "female    257\n",
       "male      243\n",
       "Name: student_id, dtype: int64"
      ]
     },
     "execution_count": 4,
     "metadata": {},
     "output_type": "execute_result"
    }
   ],
   "source": [
    "df.groupby('gender').student_id.count()"
   ]
  },
  {
   "cell_type": "code",
   "execution_count": 5,
   "metadata": {},
   "outputs": [
    {
     "name": "stdout",
     "output_type": "stream",
     "text": [
      "Female applicants: 257.\n",
      "Male applicants: 243.\n"
     ]
    }
   ],
   "source": [
    "# Extract the female and male number in the dataset\n",
    "female_total = df.groupby('gender').student_id.count()['female']\n",
    "male_total = df.groupby('gender').student_id.count()['male']\n",
    "\n",
    "print(\"Female applicants: {}.\\nMale applicants: {}.\".format(female_total, male_total))\n"
   ]
  },
  {
   "cell_type": "code",
   "execution_count": 6,
   "metadata": {},
   "outputs": [
    {
     "name": "stdout",
     "output_type": "stream",
     "text": [
      "Female proportion of all applicants: 51.40%.\n",
      "Male proportion of all all applicants: 48.60%\n"
     ]
    }
   ],
   "source": [
    "# Get the total number of applicants in the dataset\n",
    "total_applicants = df.shape[0]\n",
    "\n",
    "# Proportion of applicants that are females and males\n",
    "female_ratio = female_total / total_applicants\n",
    "male_ratio = male_total / total_applicants\n",
    "\n",
    "print(\"Female proportion of all applicants: {:.2%}.\\nMale proportion of all all applicants: {:.2%}\".format(female_ratio, male_ratio))"
   ]
  },
  {
   "cell_type": "markdown",
   "metadata": {},
   "source": [
    "- **Admission rate of each gender**"
   ]
  },
  {
   "cell_type": "code",
   "execution_count": 7,
   "metadata": {},
   "outputs": [
    {
     "data": {
      "text/plain": [
       "gender  admitted\n",
       "female  False       183\n",
       "        True         74\n",
       "male    False       125\n",
       "        True        118\n",
       "Name: student_id, dtype: int64"
      ]
     },
     "execution_count": 7,
     "metadata": {},
     "output_type": "execute_result"
    }
   ],
   "source": [
    "df.groupby(['gender', 'admitted']).student_id.count()"
   ]
  },
  {
   "cell_type": "code",
   "execution_count": 8,
   "metadata": {},
   "outputs": [
    {
     "name": "stdout",
     "output_type": "stream",
     "text": [
      "Admission rate for females: 28.79%.\n",
      "Admission rate for males: 48.56%.\n"
     ]
    }
   ],
   "source": [
    "admitted_app_byGender = df.groupby(['gender', 'admitted']).student_id.count()\n",
    "\n",
    "# Extract the admitted number of applicants for each gender\n",
    "female_admitted = admitted_app_byGender[('female', True)]\n",
    "male_admitted = admitted_app_byGender[('male', True)]\n",
    "\n",
    "# Cal the admission rate for each gender\n",
    "f_admission_rate = female_admitted / female_total\n",
    "m_admission_rate = male_admitted / male_total\n",
    "\n",
    "print(\"Admission rate for females: {:.2%}.\\nAdmission rate for males: {:.2%}.\".format(f_admission_rate, m_admission_rate))\n"
   ]
  },
  {
   "cell_type": "markdown",
   "metadata": {},
   "source": [
    "### Proportion and admission rate for different majors of each gender\n",
    "\n",
    "**Take `major` into consideration.**"
   ]
  },
  {
   "cell_type": "markdown",
   "metadata": {},
   "source": [
    "- **Proportion of different majors of each gender**"
   ]
  },
  {
   "cell_type": "code",
   "execution_count": 9,
   "metadata": {},
   "outputs": [
    {
     "data": {
      "text/plain": [
       "major      gender\n",
       "Chemistry  female    226\n",
       "           male       18\n",
       "Physics    female     31\n",
       "           male      225\n",
       "Name: student_id, dtype: int64"
      ]
     },
     "execution_count": 9,
     "metadata": {},
     "output_type": "execute_result"
    }
   ],
   "source": [
    "df.groupby(['major', 'gender']).student_id.count()"
   ]
  },
  {
   "cell_type": "markdown",
   "metadata": {},
   "source": [
    "**(1) In chemistry major**"
   ]
  },
  {
   "cell_type": "code",
   "execution_count": 10,
   "metadata": {},
   "outputs": [],
   "source": [
    "app_groupBy_MajorGender = df.groupby(['major', 'gender']).student_id.count()\n",
    "\n",
    "# Extract the female and male applicant number choosing chemistry major\n",
    "female_chem = app_groupBy_MajorGender[('Chemistry', 'female')]\n",
    "male_chem = app_groupBy_MajorGender[('Chemistry', 'male')]\n",
    "\n",
    "# Calculate the proportion of females and males choosing chemistry major respectively\n",
    "female_chem_ratio = female_chem / female_total\n",
    "male_chem_ratio = male_chem / male_total"
   ]
  },
  {
   "cell_type": "markdown",
   "metadata": {},
   "source": [
    "**(2) In physics major**"
   ]
  },
  {
   "cell_type": "code",
   "execution_count": 11,
   "metadata": {},
   "outputs": [],
   "source": [
    "# Extract the female and male applicant number choosing physics major\n",
    "female_phys = app_groupBy_MajorGender[('Physics', 'female')]\n",
    "male_phys = app_groupBy_MajorGender[('Physics', 'male')]\n",
    "\n",
    "# Calculate the proportion of females and males choosing physics major respectively\n",
    "female_phys_ratio = female_phys / female_total\n",
    "male_phys_ratio = male_phys / male_total"
   ]
  },
  {
   "cell_type": "markdown",
   "metadata": {},
   "source": [
    "**(3) Print out the proportion of females and males for each major**"
   ]
  },
  {
   "cell_type": "code",
   "execution_count": 12,
   "metadata": {},
   "outputs": [
    {
     "name": "stdout",
     "output_type": "stream",
     "text": [
      "87.94% proportion of females choosing chemistry in all females.\n",
      "7.41% proportion of males choosing chemistry in all males.\n",
      "\n",
      "12.06% proportion of females choosing physics in all females.\n",
      "92.59% proportion of males choosing physics in all males\n"
     ]
    }
   ],
   "source": [
    "print(\"\"\"{:.2%} proportion of females choosing chemistry in all females.\n",
    "{:.2%} proportion of males choosing chemistry in all males.\n",
    "\n",
    "{:.2%} proportion of females choosing physics in all females.\n",
    "{:.2%} proportion of males choosing physics in all males\"\"\".format(female_chem_ratio, \\\n",
    "                                                           male_chem_ratio, \\\n",
    "                                                           female_phys_ratio, \\\n",
    "                                                           male_phys_ratio))"
   ]
  },
  {
   "cell_type": "markdown",
   "metadata": {},
   "source": [
    "- **Admission rate of different majors of each gender**"
   ]
  },
  {
   "cell_type": "code",
   "execution_count": 13,
   "metadata": {},
   "outputs": [
    {
     "data": {
      "text/plain": [
       "major      gender  admitted\n",
       "Chemistry  female  False       175\n",
       "                   True         51\n",
       "           male    False        16\n",
       "                   True          2\n",
       "Physics    female  False         8\n",
       "                   True         23\n",
       "           male    False       109\n",
       "                   True        116\n",
       "Name: student_id, dtype: int64"
      ]
     },
     "execution_count": 13,
     "metadata": {},
     "output_type": "execute_result"
    }
   ],
   "source": [
    "df.groupby(['major', 'gender', 'admitted']).student_id.count()"
   ]
  },
  {
   "cell_type": "code",
   "execution_count": 14,
   "metadata": {},
   "outputs": [],
   "source": [
    "app_admitted_byMajorGender = df.groupby(['major', 'gender', 'admitted']).student_id.count()"
   ]
  },
  {
   "cell_type": "markdown",
   "metadata": {},
   "source": [
    "**(1) In chemistry major**"
   ]
  },
  {
   "cell_type": "code",
   "execution_count": 15,
   "metadata": {},
   "outputs": [],
   "source": [
    "# Extract the admitted applicant number of female and male of chemistry major\n",
    "female_admitted_chems = app_admitted_byMajorGender[('Chemistry', 'female', True)]\n",
    "male_admitted_chems = app_admitted_byMajorGender[('Chemistry', 'male', True)]\n",
    "\n",
    "# Calculate the admission rate of chemistry major of each gender\n",
    "female_admissionRate_chems = female_admitted_chems / female_chem\n",
    "male_admissionRate_chems = male_admitted_chems / male_chem"
   ]
  },
  {
   "cell_type": "markdown",
   "metadata": {},
   "source": [
    "**(2) In physics major**"
   ]
  },
  {
   "cell_type": "code",
   "execution_count": 16,
   "metadata": {},
   "outputs": [],
   "source": [
    "# Extract the admitted applicant number of female and male of chemistry major\n",
    "female_admitted_phys = app_admitted_byMajorGender[('Physics', 'female', True)]\n",
    "male_admitted_phys = app_admitted_byMajorGender[('Physics', 'male', True)]\n",
    "\n",
    "# Calculate the admission rate of chemistry major of each gender\n",
    "female_admissionRate_phys = female_admitted_phys / female_phys\n",
    "male_admissionRate_phys = male_admitted_phys / male_phys"
   ]
  },
  {
   "cell_type": "markdown",
   "metadata": {},
   "source": [
    "**(3) Print out the admission rate of each major of each gender**"
   ]
  },
  {
   "cell_type": "code",
   "execution_count": 17,
   "metadata": {},
   "outputs": [
    {
     "name": "stdout",
     "output_type": "stream",
     "text": [
      "22.57% admission rate of females in all female chemistry applicants.\n",
      "11.11% admission rate of males in all male chemistry applicants.\n",
      "\n",
      "74.19% admission rate of females in all female physics applicants.\n",
      "51.56% admission rate of males in all male applicants.\n"
     ]
    }
   ],
   "source": [
    "print(\"\"\"{:.2%} admission rate of females in all female chemistry applicants.\n",
    "{:.2%} admission rate of males in all male chemistry applicants.\n",
    "\n",
    "{:.2%} admission rate of females in all female physics applicants.\n",
    "{:.2%} admission rate of males in all male applicants.\"\"\".format(female_admissionRate_chems, \\\n",
    "                                                           male_admissionRate_chems, \\\n",
    "                                                           female_admissionRate_phys, \\\n",
    "                                                           male_admissionRate_phys))"
   ]
  },
  {
   "cell_type": "markdown",
   "metadata": {},
   "source": [
    "### Admission Rate for Each Major"
   ]
  },
  {
   "cell_type": "code",
   "execution_count": 18,
   "metadata": {},
   "outputs": [
    {
     "data": {
      "text/plain": [
       "major\n",
       "Chemistry    0.217213\n",
       "Physics      0.542969\n",
       "Name: admitted, dtype: float64"
      ]
     },
     "execution_count": 18,
     "metadata": {},
     "output_type": "execute_result"
    }
   ],
   "source": [
    "df.groupby('major')['admitted'].mean()"
   ]
  },
  {
   "cell_type": "code",
   "execution_count": 19,
   "metadata": {},
   "outputs": [
    {
     "name": "stdout",
     "output_type": "stream",
     "text": [
      "Admission rate is 21.72% in Chemistry Major. \n",
      "Admission rate is 54.30% in Physics Major.\n"
     ]
    }
   ],
   "source": [
    "# Extract the admission rate in chemistry major from above.\n",
    "chem_admissionRate = df.groupby('major')['admitted'].mean()['Chemistry']\n",
    "\n",
    "# Extract the admission rate in physics major from above.\n",
    "phys_admissionRate = df.groupby('major')['admitted'].mean()['Physics']\n",
    "\n",
    "# print out the results\n",
    "print(\"Admission rate is {:.2%} in Chemistry Major. \\nAdmission rate is {:.2%} in Physics Major.\".format(chem_admissionRate, phys_admissionRate))"
   ]
  },
  {
   "cell_type": "markdown",
   "metadata": {},
   "source": [
    "## Summary\n",
    "\n",
    "**Admission rate in females and males <font color=red>in regardless of majors.</font>**"
   ]
  },
  {
   "cell_type": "code",
   "execution_count": 20,
   "metadata": {},
   "outputs": [
    {
     "data": {
      "text/html": [
       "<div>\n",
       "<style scoped>\n",
       "    .dataframe tbody tr th:only-of-type {\n",
       "        vertical-align: middle;\n",
       "    }\n",
       "\n",
       "    .dataframe tbody tr th {\n",
       "        vertical-align: top;\n",
       "    }\n",
       "\n",
       "    .dataframe thead tr th {\n",
       "        text-align: left;\n",
       "    }\n",
       "</style>\n",
       "<table border=\"1\" class=\"dataframe\">\n",
       "  <thead>\n",
       "    <tr>\n",
       "      <th></th>\n",
       "      <th colspan=\"3\" halign=\"left\">Male</th>\n",
       "      <th colspan=\"3\" halign=\"left\">Female</th>\n",
       "    </tr>\n",
       "    <tr>\n",
       "      <th></th>\n",
       "      <th>Applied</th>\n",
       "      <th>Admitted</th>\n",
       "      <th>Admission_Rate</th>\n",
       "      <th>Applied</th>\n",
       "      <th>Admitted</th>\n",
       "      <th>Admission_Rate</th>\n",
       "    </tr>\n",
       "  </thead>\n",
       "  <tbody>\n",
       "    <tr>\n",
       "      <th>0</th>\n",
       "      <td>243</td>\n",
       "      <td>118</td>\n",
       "      <td>48.56%</td>\n",
       "      <td>257</td>\n",
       "      <td>74</td>\n",
       "      <td>28.79%</td>\n",
       "    </tr>\n",
       "  </tbody>\n",
       "</table>\n",
       "</div>"
      ],
      "text/plain": [
       "     Male                          Female                        \n",
       "  Applied Admitted Admission_Rate Applied Admitted Admission_Rate\n",
       "0     243      118         48.56%     257       74         28.79%"
      ]
     },
     "execution_count": 20,
     "metadata": {},
     "output_type": "execute_result"
    }
   ],
   "source": [
    "# Build a multi-index for columns\n",
    "cols = pd.MultiIndex.from_product([['Male', 'Female'],['Applied', 'Admitted', 'Admission_Rate']])\n",
    "\n",
    "m_admission_rate1 = '{:.2%}'.format(m_admission_rate)\n",
    "f_admission_rate1 = '{:.2%}'.format(f_admission_rate)\n",
    "data = np.array([[male_total, male_admitted, m_admission_rate1, \\\n",
    "                  female_total, female_admitted, f_admission_rate1]])\n",
    "\n",
    "result1 = pd.DataFrame(data, columns=cols)\n",
    "result1"
   ]
  },
  {
   "cell_type": "markdown",
   "metadata": {},
   "source": [
    "**We can see from above that it seems admission is preferred for males as ad_rate(M) > ad_rate(F).**"
   ]
  },
  {
   "cell_type": "markdown",
   "metadata": {},
   "source": [
    "**Admission rate in males and females <font color=red>in different majors</font>.**"
   ]
  },
  {
   "cell_type": "code",
   "execution_count": 21,
   "metadata": {},
   "outputs": [
    {
     "data": {
      "text/html": [
       "<div>\n",
       "<style scoped>\n",
       "    .dataframe tbody tr th:only-of-type {\n",
       "        vertical-align: middle;\n",
       "    }\n",
       "\n",
       "    .dataframe tbody tr th {\n",
       "        vertical-align: top;\n",
       "    }\n",
       "\n",
       "    .dataframe thead tr th {\n",
       "        text-align: left;\n",
       "    }\n",
       "</style>\n",
       "<table border=\"1\" class=\"dataframe\">\n",
       "  <thead>\n",
       "    <tr>\n",
       "      <th></th>\n",
       "      <th colspan=\"3\" halign=\"left\">Male</th>\n",
       "      <th colspan=\"3\" halign=\"left\">Female</th>\n",
       "    </tr>\n",
       "    <tr>\n",
       "      <th></th>\n",
       "      <th>Applied</th>\n",
       "      <th>Admitted</th>\n",
       "      <th>Admission_Rate</th>\n",
       "      <th>Applied</th>\n",
       "      <th>Admitted</th>\n",
       "      <th>Admission_Rate</th>\n",
       "    </tr>\n",
       "  </thead>\n",
       "  <tbody>\n",
       "    <tr>\n",
       "      <th>Chemistry</th>\n",
       "      <td>18</td>\n",
       "      <td>2</td>\n",
       "      <td>11.11%</td>\n",
       "      <td>226</td>\n",
       "      <td>51</td>\n",
       "      <td>22.57%</td>\n",
       "    </tr>\n",
       "    <tr>\n",
       "      <th>Physics</th>\n",
       "      <td>225</td>\n",
       "      <td>116</td>\n",
       "      <td>51.56%</td>\n",
       "      <td>31</td>\n",
       "      <td>23</td>\n",
       "      <td>74.19%</td>\n",
       "    </tr>\n",
       "  </tbody>\n",
       "</table>\n",
       "</div>"
      ],
      "text/plain": [
       "             Male                          Female                        \n",
       "          Applied Admitted Admission_Rate Applied Admitted Admission_Rate\n",
       "Chemistry      18        2         11.11%     226       51         22.57%\n",
       "Physics       225      116         51.56%      31       23         74.19%"
      ]
     },
     "execution_count": 21,
     "metadata": {},
     "output_type": "execute_result"
    }
   ],
   "source": [
    "male_admissionRate_chems2 = \"{:.2%}\".format(male_admissionRate_chems)\n",
    "female_admissionRate_chems2 = \"{:.2%}\".format(female_admissionRate_chems)\n",
    "male_admissionRate_phys2 = \"{:.2%}\".format(male_admissionRate_phys)\n",
    "female_admissionRate_phys2 = \"{:.2%}\".format(female_admissionRate_phys)\n",
    "\n",
    "data_major = np.array([[male_chem, male_admitted_chems, male_admissionRate_chems2, \\\n",
    "                       female_chem, female_admitted_chems, female_admissionRate_chems2], \\\n",
    "                      [male_phys, male_admitted_phys, male_admissionRate_phys2, \\\n",
    "                      female_phys, female_admitted_phys, female_admissionRate_phys2]])\n",
    "result2 = pd.DataFrame(data_major, columns=cols, index=['Chemistry', 'Physics'])\n",
    "result2"
   ]
  },
  {
   "cell_type": "markdown",
   "metadata": {},
   "source": [
    "**When taking `major` into consideration, we can see that in both physics and chemistry major, the admission rate of females are greater than that of males, which is opposite to the conclusion without majors above.**\n",
    "\n",
    "***SUMMARY:***  \n",
    "As the admission rate for chemistry major is lower than that of physics major. And Many more females applied to chemistry major (female_chem_ratio = 87.94%, male_chem_ratio = 7.41%), which had a lower admissions rate.  \n",
    "\n",
    "Therefore, they had an overall lower admission rate.  Though in reality, females actually had higher admission rates conditionally in both physics and chemistry.  This is known as <font color=red>**Simpson's Paradox**.</font>"
   ]
  },
  {
   "cell_type": "markdown",
   "metadata": {},
   "source": [
    "<a id='height_diff'></a>\n",
    "## Height Difference Among Coffee Drinkers"
   ]
  },
  {
   "cell_type": "code",
   "execution_count": 38,
   "metadata": {},
   "outputs": [],
   "source": [
    "np.random.seed(42)\n",
    "\n",
    "full_data = pd.read_csv('coffee_dataset.csv')\n",
    "sample_data = full_data.sample(200)"
   ]
  },
  {
   "cell_type": "code",
   "execution_count": 40,
   "metadata": {},
   "outputs": [
    {
     "data": {
      "text/html": [
       "<div>\n",
       "<style scoped>\n",
       "    .dataframe tbody tr th:only-of-type {\n",
       "        vertical-align: middle;\n",
       "    }\n",
       "\n",
       "    .dataframe tbody tr th {\n",
       "        vertical-align: top;\n",
       "    }\n",
       "\n",
       "    .dataframe thead th {\n",
       "        text-align: right;\n",
       "    }\n",
       "</style>\n",
       "<table border=\"1\" class=\"dataframe\">\n",
       "  <thead>\n",
       "    <tr style=\"text-align: right;\">\n",
       "      <th></th>\n",
       "      <th>user_id</th>\n",
       "      <th>age</th>\n",
       "      <th>drinks_coffee</th>\n",
       "      <th>height</th>\n",
       "    </tr>\n",
       "  </thead>\n",
       "  <tbody>\n",
       "    <tr>\n",
       "      <th>2402</th>\n",
       "      <td>2874</td>\n",
       "      <td>&lt;21</td>\n",
       "      <td>True</td>\n",
       "      <td>64.357154</td>\n",
       "    </tr>\n",
       "    <tr>\n",
       "      <th>2864</th>\n",
       "      <td>3670</td>\n",
       "      <td>&gt;=21</td>\n",
       "      <td>True</td>\n",
       "      <td>66.859636</td>\n",
       "    </tr>\n",
       "    <tr>\n",
       "      <th>2167</th>\n",
       "      <td>7441</td>\n",
       "      <td>&lt;21</td>\n",
       "      <td>False</td>\n",
       "      <td>66.659561</td>\n",
       "    </tr>\n",
       "    <tr>\n",
       "      <th>507</th>\n",
       "      <td>2781</td>\n",
       "      <td>&gt;=21</td>\n",
       "      <td>True</td>\n",
       "      <td>70.166241</td>\n",
       "    </tr>\n",
       "    <tr>\n",
       "      <th>1817</th>\n",
       "      <td>2875</td>\n",
       "      <td>&gt;=21</td>\n",
       "      <td>True</td>\n",
       "      <td>71.369120</td>\n",
       "    </tr>\n",
       "  </tbody>\n",
       "</table>\n",
       "</div>"
      ],
      "text/plain": [
       "      user_id   age  drinks_coffee     height\n",
       "2402     2874   <21           True  64.357154\n",
       "2864     3670  >=21           True  66.859636\n",
       "2167     7441   <21          False  66.659561\n",
       "507      2781  >=21           True  70.166241\n",
       "1817     2875  >=21           True  71.369120"
      ]
     },
     "execution_count": 40,
     "metadata": {},
     "output_type": "execute_result"
    }
   ],
   "source": [
    "sample_data.head()"
   ]
  },
  {
   "cell_type": "markdown",
   "metadata": {},
   "source": [
    "`1.` For 10,000 iterations, bootstrap sample your sample data, compute the difference in the average heights for coffee and non-coffee drinkers.  Build a 99% confidence interval using your sampling distribution."
   ]
  },
  {
   "cell_type": "code",
   "execution_count": 39,
   "metadata": {},
   "outputs": [
    {
     "data": {
      "text/plain": [
       "(0.10258900080921124, 2.538833370796657)"
      ]
     },
     "execution_count": 39,
     "metadata": {},
     "output_type": "execute_result"
    },
    {
     "data": {
      "image/png": "[encoded data removed]",
      "text/plain": [
       "<Figure size 432x288 with 1 Axes>"
      ]
     },
     "metadata": {
      "needs_background": "light"
     },
     "output_type": "display_data"
    }
   ],
   "source": [
    "diffs = []\n",
    "\n",
    "for _ in np.arange(10000):\n",
    "    boot_samp = sample_data.sample(200, replace=True)\n",
    "    coff_mean = boot_samp[boot_samp.drinks_coffee==True].height.mean()\n",
    "    no_coff_mean = boot_samp[boot_samp.drinks_coffee==False].height.mean()\n",
    "    diff = coff_mean - no_coff_mean\n",
    "    diffs.append(diff)\n",
    "\n",
    "plt.hist(diffs);\n",
    "np.percentile(diffs, .5), np.percentile(diffs, 99.5)"
   ]
  },
  {
   "cell_type": "markdown",
   "metadata": {},
   "source": [
    "___Comment:___ statistical evidence coffee drinkers are on average taller."
   ]
  },
  {
   "cell_type": "markdown",
   "metadata": {},
   "source": [
    "`2.` For 10,000 iterations, bootstrap sample your sample data, compute the difference in the average heights for those older than 21 and those younger than 21.  Build a 99% confidence interval using your sampling distribution."
   ]
  },
  {
   "cell_type": "code",
   "execution_count": 42,
   "metadata": {},
   "outputs": [
    {
     "data": {
      "text/plain": [
       "(3.366711378170795, 5.132127656262256)"
      ]
     },
     "execution_count": 42,
     "metadata": {},
     "output_type": "execute_result"
    },
    {
     "data": {
      "image/png": "[encoded data removed]",
      "text/plain": [
       "<Figure size 432x288 with 1 Axes>"
      ]
     },
     "metadata": {
      "needs_background": "light"
     },
     "output_type": "display_data"
    }
   ],
   "source": [
    "diffs = []\n",
    "\n",
    "for _ in np.arange(10000):\n",
    "    boot_samp = sample_data.sample(200, replace=True)\n",
    "    under21_mean = boot_samp[boot_samp.age=='<21'].height.mean()\n",
    "    over21_mean = boot_samp[boot_samp.age=='>=21'].height.mean()\n",
    "    diff = over21_mean - under21_mean\n",
    "    diffs.append(diff)\n",
    "\n",
    "plt.hist(diffs);\n",
    "np.percentile(diffs, .5), np.percentile(diffs, 99.5)"
   ]
  },
  {
   "cell_type": "markdown",
   "metadata": {},
   "source": [
    "___comment:___ Statistical evidence that over 21 y/o are on average taller."
   ]
  },
  {
   "cell_type": "markdown",
   "metadata": {},
   "source": [
    "`3.` For 10,000 iterations bootstrap your sample data, compute the **difference** in the average height for coffee drinkers and the average height for non-coffee drinkers for individuals **under** 21 years old.  Using your sampling distribution, build a 95% confidence interval."
   ]
  },
  {
   "cell_type": "code",
   "execution_count": 44,
   "metadata": {},
   "outputs": [
    {
     "data": {
      "text/plain": [
       "(1.0809572510874992, 2.625869766046186)"
      ]
     },
     "execution_count": 44,
     "metadata": {},
     "output_type": "execute_result"
    },
    {
     "data": {
      "image/png": "[encoded data removed]",
      "text/plain": [
       "<Figure size 432x288 with 1 Axes>"
      ]
     },
     "metadata": {
      "needs_background": "light"
     },
     "output_type": "display_data"
    }
   ],
   "source": [
    "diffs = []\n",
    "\n",
    "for _ in np.arange(10000):\n",
    "    boot_samp = sample_data.sample(200, replace=True)\n",
    "    coff_under21_mean = boot_samp[(boot_samp.age=='<21') & (boot_samp.drinks_coffee==True)].height.mean()\n",
    "    no_coff_under21_mean = boot_samp[(boot_samp.age=='<21') & (boot_samp.drinks_coffee==False)].height.mean()\n",
    "    diff = no_coff_under21_mean - coff_under21_mean\n",
    "    diffs.append(diff)\n",
    "\n",
    "plt.hist(diffs);\n",
    "np.percentile(diffs, 2.5), np.percentile(diffs, 97.5)"
   ]
  },
  {
   "cell_type": "markdown",
   "metadata": {},
   "source": [
    "___Comment:___ For the under21 group, we have evidence that the non-coffee drinkers are on average taller."
   ]
  },
  {
   "cell_type": "markdown",
   "metadata": {},
   "source": [
    "`4.` For 10,000 iterations bootstrap your sample data, compute the **difference** in the average height for coffee drinkers and the average height for non-coffee drinkers for individuals **over** 21 years old.  Using your sampling distribution, build a 95% confidence interval. Use your interval to finish answering the second quiz question below."
   ]
  },
  {
   "cell_type": "code",
   "execution_count": 45,
   "metadata": {},
   "outputs": [
    {
     "data": {
      "text/plain": [
       "(1.828156731814163, 4.408029942439456)"
      ]
     },
     "execution_count": 45,
     "metadata": {},
     "output_type": "execute_result"
    },
    {
     "data": {
      "image/png": "[encoded data removed]",
      "text/plain": [
       "<Figure size 432x288 with 1 Axes>"
      ]
     },
     "metadata": {
      "needs_background": "light"
     },
     "output_type": "display_data"
    }
   ],
   "source": [
    "diffs = []\n",
    "\n",
    "for _ in np.arange(10000):\n",
    "    boot_samp = sample_data.sample(200, replace=True)\n",
    "    coff_over21_mean = boot_samp[(boot_samp.age=='>=21') & (boot_samp.drinks_coffee==True)].height.mean()\n",
    "    no_coff_over21_mean = boot_samp[(boot_samp.age=='>=21') & (boot_samp.drinks_coffee==False)].height.mean()\n",
    "    diff = no_coff_over21_mean - coff_over21_mean\n",
    "    diffs.append(diff)\n",
    "\n",
    "plt.hist(diffs);\n",
    "np.percentile(diffs, 2.5), np.percentile(diffs, 97.5)"
   ]
  },
  {
   "cell_type": "markdown",
   "metadata": {},
   "source": [
    "___Comment:___ For the over21 group, we have evidence that on average the non-coffee drinkers are taller."
   ]
  },
  {
   "cell_type": "markdown",
   "metadata": {},
   "source": [
    "### Conclusions:\n",
    "\n",
    "Within the ___under 21___ and ___over 21___ groups, we saw that on average non-coffee drinkers were taller.  But, when combined, we saw that on average coffee drinkers were on average taller.  This is again **Simpson's paradox**, and essentially there are more adults in the dataset who were coffee drinkers.  So these individuals made it seem like coffee drinkers were on average taller - which is a __misleading result__.  "
   ]
  },
  {
   "cell_type": "code",
   "execution_count": null,
   "metadata": {},
   "outputs": [],
   "source": []
  }
 ],
 "metadata": {
  "kernelspec": {
   "display_name": "Python 3",
   "language": "python",
   "name": "python3"
  },
  "language_info": {
   "codemirror_mode": {
    "name": "ipython",
    "version": 3
   },
   "file_extension": ".py",
   "mimetype": "text/x-python",
   "name": "python",
   "nbconvert_exporter": "python",
   "pygments_lexer": "ipython3",
   "version": "3.7.9"
  }
 },
 "nbformat": 4,
 "nbformat_minor": 4
}

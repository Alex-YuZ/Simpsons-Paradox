{
 "cells": [
  {
   "cell_type": "markdown",
   "metadata": {},
   "source": [
    "# Simpson's Paradox"
   ]
  },
  {
   "cell_type": "markdown",
   "metadata": {},
   "source": [
    "## Demo \\#1 Admission Rate"
   ]
  },
  {
   "cell_type": "code",
   "execution_count": 1,
   "metadata": {},
   "outputs": [],
   "source": [
    "import os\n",
    "os.chdir('projects_on_GitHub/udacity_project/Simpsons_Paradox')"
   ]
  },
  {
   "cell_type": "code",
   "execution_count": 2,
   "metadata": {},
   "outputs": [
    {
     "data": {
      "text/plain": [
       "'/Users/alejandrosanz/Downloads/projects_on_GitHub/udacity_project/Simpsons_Paradox'"
      ]
     },
     "execution_count": 2,
     "metadata": {},
     "output_type": "execute_result"
    }
   ],
   "source": [
    "pwd"
   ]
  },
  {
   "cell_type": "code",
   "execution_count": 4,
   "metadata": {},
   "outputs": [
    {
     "data": {
      "text/html": [
       "<div>\n",
       "<style scoped>\n",
       "    .dataframe tbody tr th:only-of-type {\n",
       "        vertical-align: middle;\n",
       "    }\n",
       "\n",
       "    .dataframe tbody tr th {\n",
       "        vertical-align: top;\n",
       "    }\n",
       "\n",
       "    .dataframe thead th {\n",
       "        text-align: right;\n",
       "    }\n",
       "</style>\n",
       "<table border=\"1\" class=\"dataframe\">\n",
       "  <thead>\n",
       "    <tr style=\"text-align: right;\">\n",
       "      <th></th>\n",
       "      <th>student_id</th>\n",
       "      <th>gender</th>\n",
       "      <th>major</th>\n",
       "      <th>admitted</th>\n",
       "    </tr>\n",
       "  </thead>\n",
       "  <tbody>\n",
       "    <tr>\n",
       "      <th>0</th>\n",
       "      <td>35377</td>\n",
       "      <td>female</td>\n",
       "      <td>Chemistry</td>\n",
       "      <td>False</td>\n",
       "    </tr>\n",
       "    <tr>\n",
       "      <th>1</th>\n",
       "      <td>56105</td>\n",
       "      <td>male</td>\n",
       "      <td>Physics</td>\n",
       "      <td>True</td>\n",
       "    </tr>\n",
       "    <tr>\n",
       "      <th>2</th>\n",
       "      <td>31441</td>\n",
       "      <td>female</td>\n",
       "      <td>Chemistry</td>\n",
       "      <td>False</td>\n",
       "    </tr>\n",
       "    <tr>\n",
       "      <th>3</th>\n",
       "      <td>51765</td>\n",
       "      <td>male</td>\n",
       "      <td>Physics</td>\n",
       "      <td>True</td>\n",
       "    </tr>\n",
       "    <tr>\n",
       "      <th>4</th>\n",
       "      <td>53714</td>\n",
       "      <td>female</td>\n",
       "      <td>Physics</td>\n",
       "      <td>True</td>\n",
       "    </tr>\n",
       "  </tbody>\n",
       "</table>\n",
       "</div>"
      ],
      "text/plain": [
       "   student_id  gender      major  admitted\n",
       "0       35377  female  Chemistry     False\n",
       "1       56105    male    Physics      True\n",
       "2       31441  female  Chemistry     False\n",
       "3       51765    male    Physics      True\n",
       "4       53714  female    Physics      True"
      ]
     },
     "execution_count": 4,
     "metadata": {},
     "output_type": "execute_result"
    }
   ],
   "source": [
    "# Load and view first few lines of dataset\n",
    "df = pd.read_csv('admission_data.csv')\n",
    "df.head()"
   ]
  },
  {
   "cell_type": "markdown",
   "metadata": {},
   "source": [
    "### Proportion and admission rate for each gender\n",
    "- **Proportion of each gender**"
   ]
  },
  {
   "cell_type": "code",
   "execution_count": 6,
   "metadata": {},
   "outputs": [
    {
     "data": {
      "text/plain": [
       "gender\n",
       "female    257\n",
       "male      243\n",
       "Name: student_id, dtype: int64"
      ]
     },
     "execution_count": 6,
     "metadata": {},
     "output_type": "execute_result"
    }
   ],
   "source": [
    "df.groupby('gender').student_id.count()"
   ]
  },
  {
   "cell_type": "code",
   "execution_count": 9,
   "metadata": {},
   "outputs": [
    {
     "name": "stdout",
     "output_type": "stream",
     "text": [
      "Female applicants: 257.\n",
      "Male applicants: 243.\n"
     ]
    }
   ],
   "source": [
    "# Extract the female and male number in the dataset\n",
    "female_total = df.groupby('gender').student_id.count()['female']\n",
    "male_total = df.groupby('gender').student_id.count()['male']\n",
    "\n",
    "print(\"Female applicants: {}.\\nMale applicants: {}.\".format(female_total, male_total))\n"
   ]
  },
  {
   "cell_type": "code",
   "execution_count": 21,
   "metadata": {},
   "outputs": [
    {
     "name": "stdout",
     "output_type": "stream",
     "text": [
      "Female proportion of all applicants: 51.40%.\n",
      "Male proportion of all all applicants: 48.60%\n"
     ]
    }
   ],
   "source": [
    "# Get the total number of applicants in the dataset\n",
    "total_applicants = df.shape[0]\n",
    "\n",
    "# Proportion of applicants that are females and males\n",
    "female_ratio = female_total / total_applicants\n",
    "male_ratio = male_total / total_applicants\n",
    "\n",
    "print(\"Female proportion of all applicants: {:.2%}.\\nMale proportion of all all applicants: {:.2%}\".format(female_ratio, male_ratio))"
   ]
  },
  {
   "cell_type": "markdown",
   "metadata": {},
   "source": [
    "- **Admission rate of each gender**"
   ]
  },
  {
   "cell_type": "code",
   "execution_count": 13,
   "metadata": {},
   "outputs": [
    {
     "data": {
      "text/plain": [
       "gender  admitted\n",
       "female  False       183\n",
       "        True         74\n",
       "male    False       125\n",
       "        True        118\n",
       "Name: student_id, dtype: int64"
      ]
     },
     "execution_count": 13,
     "metadata": {},
     "output_type": "execute_result"
    }
   ],
   "source": [
    "df.groupby(['gender', 'admitted']).student_id.count()"
   ]
  },
  {
   "cell_type": "code",
   "execution_count": 16,
   "metadata": {},
   "outputs": [
    {
     "name": "stdout",
     "output_type": "stream",
     "text": [
      "Admission rate for females: 28.79%.\n",
      "Admission rate for males: 48.56%.\n"
     ]
    }
   ],
   "source": [
    "admitted_app_byGender = df.groupby(['gender', 'admitted']).student_id.count()\n",
    "\n",
    "# Extract the admitted number of applicants for each gender\n",
    "female_admitted = admitted_app_byGender[('female', True)]\n",
    "male_admitted = admitted_app_byGender[('male', True)]\n",
    "\n",
    "# Cal the admission rate for each gender\n",
    "f_admission_rate = female_admitted / female_total\n",
    "m_admission_rate = male_admitted / male_total\n",
    "\n",
    "print(\"Admission rate for females: {:.2%}.\\nAdmission rate for males: {:.2%}.\".format(f_admission_rate, m_admission_rate))\n"
   ]
  },
  {
   "cell_type": "markdown",
   "metadata": {},
   "source": [
    "### Proportion and admission rate for different majors of each gender\n",
    "\n",
    "**Take `major` into consideration.**"
   ]
  },
  {
   "cell_type": "markdown",
   "metadata": {},
   "source": [
    "- **Proportion of different majors of each gender**"
   ]
  },
  {
   "cell_type": "code",
   "execution_count": 22,
   "metadata": {},
   "outputs": [
    {
     "data": {
      "text/plain": [
       "major      gender\n",
       "Chemistry  female    226\n",
       "           male       18\n",
       "Physics    female     31\n",
       "           male      225\n",
       "Name: student_id, dtype: int64"
      ]
     },
     "execution_count": 22,
     "metadata": {},
     "output_type": "execute_result"
    }
   ],
   "source": [
    "df.groupby(['major', 'gender']).student_id.count()"
   ]
  },
  {
   "cell_type": "markdown",
   "metadata": {},
   "source": [
    "**(1) In chemistry major**"
   ]
  },
  {
   "cell_type": "code",
   "execution_count": 25,
   "metadata": {},
   "outputs": [],
   "source": [
    "app_groupBy_MajorGender = df.groupby(['major', 'gender']).student_id.count()\n",
    "\n",
    "# Extract the female and male applicant number choosing chemistry major\n",
    "female_chem = app_groupBy_MajorGender[('Chemistry', 'female')]\n",
    "male_chem = app_groupBy_MajorGender[('Chemistry', 'male')]\n",
    "\n",
    "# Calculate the proportion of females and males choosing chemistry major respectively\n",
    "female_chem_ratio = female_chem / female_total\n",
    "male_chem_ratio = male_chem / male_total"
   ]
  },
  {
   "cell_type": "markdown",
   "metadata": {},
   "source": [
    "**(2) In physics major**"
   ]
  },
  {
   "cell_type": "code",
   "execution_count": 26,
   "metadata": {},
   "outputs": [],
   "source": [
    "# Extract the female and male applicant number choosing physics major\n",
    "female_phys = app_groupBy_MajorGender[('Physics', 'female')]\n",
    "male_phys = app_groupBy_MajorGender[('Physics', 'male')]\n",
    "\n",
    "# Calculate the proportion of females and males choosing physics major respectively\n",
    "female_phys_ratio = female_phys / female_total\n",
    "male_phys_ratio = male_phys / male_total"
   ]
  },
  {
   "cell_type": "markdown",
   "metadata": {},
   "source": [
    "**(3) Print out the proportion of females and males for each major**"
   ]
  },
  {
   "cell_type": "code",
   "execution_count": 30,
   "metadata": {},
   "outputs": [
    {
     "name": "stdout",
     "output_type": "stream",
     "text": [
      "87.94% proportion of females choosing chemistry in all females.\n",
      "7.41% proportion of males choosing chemistry in all males.\n",
      "\n",
      "12.06% proportion of females choosing physics in all females.\n",
      "92.59% proportion of males choosing physics in all males\n"
     ]
    }
   ],
   "source": [
    "print(\"\"\"{:.2%} proportion of females choosing chemistry in all females.\n",
    "{:.2%} proportion of males choosing chemistry in all males.\n",
    "\n",
    "{:.2%} proportion of females choosing physics in all females.\n",
    "{:.2%} proportion of males choosing physics in all males\"\"\".format(female_chem_ratio, \\\n",
    "                                                           male_chem_ratio, \\\n",
    "                                                           female_phys_ratio, \\\n",
    "                                                           male_phys_ratio))"
   ]
  },
  {
   "cell_type": "markdown",
   "metadata": {},
   "source": [
    "- **Admission rate of different majors of each gender**"
   ]
  },
  {
   "cell_type": "code",
   "execution_count": 31,
   "metadata": {},
   "outputs": [
    {
     "data": {
      "text/plain": [
       "major      gender  admitted\n",
       "Chemistry  female  False       175\n",
       "                   True         51\n",
       "           male    False        16\n",
       "                   True          2\n",
       "Physics    female  False         8\n",
       "                   True         23\n",
       "           male    False       109\n",
       "                   True        116\n",
       "Name: student_id, dtype: int64"
      ]
     },
     "execution_count": 31,
     "metadata": {},
     "output_type": "execute_result"
    }
   ],
   "source": [
    "df.groupby(['major', 'gender', 'admitted']).student_id.count()"
   ]
  },
  {
   "cell_type": "code",
   "execution_count": 35,
   "metadata": {},
   "outputs": [],
   "source": [
    "app_admitted_byMajorGender = df.groupby(['major', 'gender', 'admitted']).student_id.count()"
   ]
  },
  {
   "cell_type": "markdown",
   "metadata": {},
   "source": [
    "**(1) In chemistry major**"
   ]
  },
  {
   "cell_type": "code",
   "execution_count": 36,
   "metadata": {},
   "outputs": [],
   "source": [
    "# Extract the admitted applicant number of female and male of chemistry major\n",
    "female_admitted_chems = app_admitted_byMajorGender[('Chemistry', 'female', True)]\n",
    "male_admitted_chems = app_admitted_byMajorGender[('Chemistry', 'male', True)]\n",
    "\n",
    "# Calculate the admission rate of chemistry major of each gender\n",
    "female_admissionRate_chems = female_admitted_chems / female_chem\n",
    "male_admissionRate_chems = male_admitted_chems / male_chem"
   ]
  },
  {
   "cell_type": "markdown",
   "metadata": {},
   "source": [
    "**(2) In physics major**"
   ]
  },
  {
   "cell_type": "code",
   "execution_count": 37,
   "metadata": {},
   "outputs": [],
   "source": [
    "# Extract the admitted applicant number of female and male of chemistry major\n",
    "female_admitted_phys = app_admitted_byMajorGender[('Physics', 'female', True)]\n",
    "male_admitted_phys = app_admitted_byMajorGender[('Physics', 'male', True)]\n",
    "\n",
    "# Calculate the admission rate of chemistry major of each gender\n",
    "female_admissionRate_phys = female_admitted_phys / female_phys\n",
    "male_admissionRate_phys = male_admitted_phys / male_phys"
   ]
  },
  {
   "cell_type": "markdown",
   "metadata": {},
   "source": [
    "**(3) Print out the admission rate of each major of each gender**"
   ]
  },
  {
   "cell_type": "code",
   "execution_count": 39,
   "metadata": {},
   "outputs": [
    {
     "name": "stdout",
     "output_type": "stream",
     "text": [
      "22.57% admission rate of females in all female chemistry applicants.\n",
      "11.11% admission rate of males in all male chemistry applicants.\n",
      "\n",
      "74.19% admission rate of females in all female physics applicants.\n",
      "51.56% admission rate of males in all male applicants.\n"
     ]
    }
   ],
   "source": [
    "print(\"\"\"{:.2%} admission rate of females in all female chemistry applicants.\n",
    "{:.2%} admission rate of males in all male chemistry applicants.\n",
    "\n",
    "{:.2%} admission rate of females in all female physics applicants.\n",
    "{:.2%} admission rate of males in all male applicants.\"\"\".format(female_admissionRate_chems, \\\n",
    "                                                           male_admissionRate_chems, \\\n",
    "                                                           female_admissionRate_phys, \\\n",
    "                                                           male_admissionRate_phys))"
   ]
  },
  {
   "cell_type": "markdown",
   "metadata": {},
   "source": [
    "### Admission Rate for Each Major"
   ]
  },
  {
   "cell_type": "code",
   "execution_count": 43,
   "metadata": {},
   "outputs": [
    {
     "data": {
      "text/plain": [
       "major\n",
       "Chemistry    0.217213\n",
       "Physics      0.542969\n",
       "Name: admitted, dtype: float64"
      ]
     },
     "execution_count": 43,
     "metadata": {},
     "output_type": "execute_result"
    }
   ],
   "source": [
    "df.groupby('major')['admitted'].mean()"
   ]
  },
  {
   "cell_type": "code",
   "execution_count": 44,
   "metadata": {},
   "outputs": [
    {
     "name": "stdout",
     "output_type": "stream",
     "text": [
      "Admission rate is 21.72% in Chemistry Major. \n",
      "Admission rate is 54.30% in Physics Major.\n"
     ]
    }
   ],
   "source": [
    "# Extract the admission rate in chemistry major from above.\n",
    "chem_admissionRate = df.groupby('major')['admitted'].mean()['Chemistry']\n",
    "\n",
    "# Extract the admission rate in physics major from above.\n",
    "phys_admissionRate = df.groupby('major')['admitted'].mean()['Physics']\n",
    "\n",
    "# print out the results\n",
    "print(\"Admission rate is {:.2%} in Chemistry Major. \\nAdmission rate is {:.2%} in Physics Major.\".format(chem_admissionRate, phys_admissionRate))"
   ]
  },
  {
   "cell_type": "markdown",
   "metadata": {},
   "source": []
  }
 ],
 "metadata": {
  "kernelspec": {
   "display_name": "Python 3",
   "language": "python",
   "name": "python3"
  },
  "language_info": {
   "codemirror_mode": {
    "name": "ipython",
    "version": 3
   },
   "file_extension": ".py",
   "mimetype": "text/x-python",
   "name": "python",
   "nbconvert_exporter": "python",
   "pygments_lexer": "ipython3",
   "version": "3.7.9"
  }
 },
 "nbformat": 4,
 "nbformat_minor": 4
}
